{
 "cells": [
  {
   "cell_type": "markdown",
   "metadata": {},
   "source": [
    "# Ceasar Cipher\n",
    "\n"
   ]
  },
  {
   "cell_type": "code",
   "execution_count": 3,
   "metadata": {},
   "outputs": [
    {
     "name": "stdout",
     "output_type": "stream",
     "text": [
      "Yvccf, Nficu!  =>  Hello, World!\n"
     ]
    }
   ],
   "source": [
    "alphabet = 'abcdefghijklmnopqrstuvwxyz'\n",
    "\n",
    "def encrypt(text: str, num: int) -> str:\n",
    "    '''Encrypts the text with the Ceasar cipher-method. Returns the encrypted text.'''\n",
    "    encrypted_text = ''\n",
    "    for char in text:\n",
    "        # If the character is a letter, encrypt it\n",
    "        if char.isalpha():\n",
    "            is_upper = char.isupper()\n",
    "            char = char.lower()\n",
    "            index = alphabet.index(char)\n",
    "            new_index = (index + num) % len(alphabet)\n",
    "            encrypted_text += alphabet[new_index].upper() if is_upper else alphabet[new_index]\n",
    "        # If the character is not a letter, keep it as is\n",
    "        else:\n",
    "            encrypted_text += char\n",
    "    return encrypted_text\n",
    "\n",
    "def decrypt(text: str, num: int) -> str:\n",
    "    '''Decrypts the text with the Ceasar cipher-method. Returns the decrypted text.'''\n",
    "    return encrypt(text, -num)\n",
    "\n",
    "encrypted_text = encrypt('Hello, World!', 17)\n",
    "print(encrypted_text, ' => ', decrypt(encrypted_text, 17))\n"
   ]
  },
  {
   "cell_type": "markdown",
   "metadata": {},
   "source": [
    "# Two Sum Problem"
   ]
  },
  {
   "cell_type": "code",
   "execution_count": 2,
   "metadata": {},
   "outputs": [
    {
     "name": "stdout",
     "output_type": "stream",
     "text": [
      "[0, 1]\n",
      "[]\n"
     ]
    }
   ],
   "source": [
    "def two_sum(nums: list, target: int) -> list:\n",
    "    '''Returns the indices of the two numbers in the list that add up to the target.'''\n",
    "    for i in range(len(nums)):\n",
    "        for j in range(i+1, len(nums)):\n",
    "            if nums[i] + nums[j] == target:\n",
    "                return [i, j]\n",
    "    return []\n",
    "\n",
    "print(two_sum([2, 7, 11, 15], 9)) # [0, 1]\n",
    "print(two_sum([3, 2, 4], 8)) # []"
   ]
  }
 ],
 "metadata": {
  "kernelspec": {
   "display_name": "environment",
   "language": "python",
   "name": "python3"
  },
  "language_info": {
   "codemirror_mode": {
    "name": "ipython",
    "version": 3
   },
   "file_extension": ".py",
   "mimetype": "text/x-python",
   "name": "python",
   "nbconvert_exporter": "python",
   "pygments_lexer": "ipython3",
   "version": "3.11.10"
  }
 },
 "nbformat": 4,
 "nbformat_minor": 2
}
