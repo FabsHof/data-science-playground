{
 "cells": [
  {
   "cell_type": "markdown",
   "metadata": {},
   "source": [
    "# Python Programmer Bootcamp: Basics of Python"
   ]
  },
  {
   "cell_type": "code",
   "execution_count": null,
   "metadata": {},
   "outputs": [],
   "source": [
    "# Bubble sort algorithm\n",
    "data = [45, 12, 78, 34, 89, 23, 44, 50, 66, 94]\n",
    "data_copy = data[:]\n",
    "\n",
    "for i in range(len(data_copy)):\n",
    "    for j in range(len(data_copy) - i - 1):\n",
    "        if data_copy[j] > data_copy[j + 1]:\n",
    "            data_copy[j], data_copy[j + 1] = data_copy[j + 1], data_copy[j]"
   ]
  },
  {
   "cell_type": "code",
   "execution_count": null,
   "metadata": {},
   "outputs": [],
   "source": [
    "# Modules\n",
    "import math\n",
    "import random as rand\n",
    "# see all the functions in the math module:\n",
    "# dir(math)\n",
    "# math.cos(math.pi * random.randint(1, 100))\n",
    "import webbrowser\n",
    "\n",
    "webbrowser.open('https://www.python.org')\n"
   ]
  },
  {
   "cell_type": "code",
   "execution_count": null,
   "metadata": {},
   "outputs": [],
   "source": [
    "# Dictionaries\n",
    "capitals = {'United States': 'Washington, DC', 'France': 'Paris', 'Italy': 'Rome'}\n",
    "\n",
    "for country, city in capitals.items():\n",
    "    print(f'The capital of {country} is {city}')"
   ]
  },
  {
   "cell_type": "code",
   "execution_count": null,
   "metadata": {},
   "outputs": [],
   "source": [
    "# Plotting a bar chart\n",
    "import matplotlib.pyplot as plt\n",
    "\n",
    "lorem_ipsum_text = '''Lorem ipsum dolor sit amet, consectetur adipiscing elit.\n",
    "Sed do eiusmod tempor incididunt ut labore et dolore magna aliqua.\n",
    "Ut enim ad minim veniam, quis nostrud exercitation ullamco laboris nisi ut aliquip ex ea commodo consequat.\n",
    "Duis aute irure dolor in reprehenderit in voluptate velit esse cillum dolore eu fugiat nulla pariatur.'''\n",
    "letter_count = {}\n",
    "for letter in lorem_ipsum_text:\n",
    "    letter_count[letter.lower()] = letter_count.get(letter.lower(), 0) + 1\n",
    "\n",
    "letter_count_clean = {}\n",
    "\n",
    "for letter, count in letter_count.items():\n",
    "    if letter.isalpha():\n",
    "        letter_count_clean[letter] = count\n",
    "\n",
    "x, y = zip(*letter_count_clean.items())\n",
    "plt.bar(x, y)\n",
    "plt.show()"
   ]
  },
  {
   "cell_type": "code",
   "execution_count": null,
   "metadata": {},
   "outputs": [],
   "source": [
    "# Counting the frequency of characters in a text\n",
    "\n",
    "from collections import Counter\n",
    "\n",
    "text = \"\"\"In data science, we often use machine learning models to predict outcomes based on input data.\\n\n",
    "Machine learning can be classified into three main types: supervised, unsupervised, and reinforcement learning.\\n\n",
    "Supervised learning involves training a model on labeled data, where the correct answer is already known.\\n\n",
    "In contrast, unsupervised learning finds patterns or structures within data without any labeled output.\\n\n",
    "Reinforcement learning is based on rewarding a model for making correct decisions and penalizing it for mistakes.\\n\n",
    "By understanding these types, we can choose the right model for our data and improve our predictions.\"\"\"\n",
    "\n",
    "char_count = Counter(text.lower())\n",
    "\n",
    "new_dict = dict(char_count)\n",
    "\n",
    "# Dictionary comprehension\n",
    "new_dict = {k: v for k, v in new_dict.items() if k.isalpha()}\n",
    "print(new_dict)\n",
    "\n",
    "# List comprehension\n",
    "list = [x**2 for x in range(1, 10)]"
   ]
  },
  {
   "cell_type": "code",
   "execution_count": null,
   "metadata": {},
   "outputs": [],
   "source": [
    "# File handling\n",
    "import random\n",
    "\n",
    "with open('./files/example.txt', 'w') as file:\n",
    "    file.write(f'Hello, World - {random.randint(1, 100)}!')\n",
    "    "
   ]
  },
  {
   "cell_type": "code",
   "execution_count": null,
   "metadata": {},
   "outputs": [
    {
     "name": "stdout",
     "output_type": "stream",
     "text": [
      "3.0\n",
      "55\n"
     ]
    }
   ],
   "source": [
    "# Functions and Recursion\n",
    "\n",
    "def calc_mean(first, *remainder):\n",
    "    '''\n",
    "    This calculates the mean of numbers.\n",
    "    '''\n",
    "    mean = (first + sum(remainder)) / (1 + len(remainder))\n",
    "    return mean\n",
    "\n",
    "print(calc_mean(1, 2, 3, 4, 5))\n",
    "\n",
    "# ========================\n",
    "# Import a module from another file\n",
    "import methods\n",
    "\n",
    "print(methods.fib_2(10))\n",
    "\n",
    "# ========================\n",
    "# Recursion\n",
    "def factorial(n):\n",
    "    if n == 0:\n",
    "        return 1\n",
    "    else:\n",
    "        return n * factorial(n - 1)"
   ]
  }
 ],
 "metadata": {
  "kernelspec": {
   "display_name": "environment",
   "language": "python",
   "name": "python3"
  },
  "language_info": {
   "codemirror_mode": {
    "name": "ipython",
    "version": 3
   },
   "file_extension": ".py",
   "mimetype": "text/x-python",
   "name": "python",
   "nbconvert_exporter": "python",
   "pygments_lexer": "ipython3",
   "version": "3.11.10"
  }
 },
 "nbformat": 4,
 "nbformat_minor": 2
}
