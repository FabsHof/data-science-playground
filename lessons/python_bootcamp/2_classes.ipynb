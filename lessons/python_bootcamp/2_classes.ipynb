{
 "cells": [
  {
   "cell_type": "markdown",
   "metadata": {},
   "source": [
    "# Classes"
   ]
  },
  {
   "cell_type": "code",
   "execution_count": null,
   "metadata": {},
   "outputs": [],
   "source": [
    "# Classes and objects\n",
    "class Patient(object):\n",
    "    '''\n",
    "    Medical center patient\n",
    "    Attributes:\n",
    "    name: Patient's name\n",
    "    age: Patient's age\n",
    "    conditions: List of patient's conditions\n",
    "    '''\n",
    "\n",
    "    def __init__(self, name=None, age=None):\n",
    "        self.name = name\n",
    "        self.age = age\n",
    "        self.conditions = []\n",
    "    \n",
    "    def get_details(self):\n",
    "        '''Return patient details'''\n",
    "        return f'Patient details: {self.name}, {self.age} years.'\n",
    "\n",
    "    def add_info(self, info):\n",
    "        '''Add patient information'''\n",
    "        self.conditions.append(info)\n",
    "\n",
    "class Infant(Patient):\n",
    "    '''\n",
    "        Patient under 2 years old\n",
    "        Attributes:\n",
    "        name: Patient's name\n",
    "        age: Patient's age\n",
    "        vaccinations: List of vaccinations\n",
    "        '''\n",
    "    def __init__(self, name=None, age=None):\n",
    "        self.vaccinations = []\n",
    "        super().__init__(name, age)\n",
    "\n",
    "    def add_vaccination(self, vaccine):\n",
    "        '''Add vaccination'''\n",
    "        self.vaccinations.append(vaccine)\n",
    "\n",
    "    def get_details(self):\n",
    "        return super().get_details() + f' Vaccines: {self.vaccinations}'\n",
    "\n",
    "\n",
    "patient = Patient('John Doe', 30)\n",
    "patient_2 = Patient(age=25, name='Jane Doe')\n",
    "print(patient.name, patient.age, patient.get_details())\n",
    "print(patient_2.name, patient_2.age, patient_2.get_details())\n",
    "\n",
    "infant = Infant('Baby Doe', 1)\n",
    "infant.add_vaccination('Hepatitis B')\n",
    "infant.add_info('Has a cold')\n",
    "print(infant.get_details())"
   ]
  }
 ],
 "metadata": {
  "kernelspec": {
   "display_name": "environment",
   "language": "python",
   "name": "python3"
  },
  "language_info": {
   "codemirror_mode": {
    "name": "ipython",
    "version": 3
   },
   "file_extension": ".py",
   "mimetype": "text/x-python",
   "name": "python",
   "nbconvert_exporter": "python",
   "pygments_lexer": "ipython3",
   "version": "3.11.10"
  }
 },
 "nbformat": 4,
 "nbformat_minor": 2
}
