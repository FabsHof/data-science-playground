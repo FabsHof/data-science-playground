{
 "cells": [
  {
   "cell_type": "markdown",
   "metadata": {},
   "source": [
    "# 3. SQL Temporary Tables\n",
    "\n",
    "## Setup\n",
    "- `cd lessons/sql_advanced && docker-compose up -d`\n"
   ]
  },
  {
   "cell_type": "code",
   "execution_count": null,
   "metadata": {},
   "outputs": [],
   "source": [
    "# Setup\n",
    "\n",
    "from sqlalchemy import create_engine\n",
    "import pandas as pd\n",
    "\n",
    "# db connection\n",
    "user = 'employees_user'\n",
    "password = 'employees_password'\n",
    "host = 'localhost'\n",
    "port = '3306'\n",
    "database = 'employees'\n",
    "\n",
    "# create engine\n",
    "engine = create_engine(f'mysql+pymysql://{user}:{password}@{host}:{port}/{database}')\n",
    "\n",
    "columns_query = f'''\n",
    "SELECT column_name, table_name, data_type\n",
    "FROM information_schema.columns \n",
    "WHERE table_schema = \"{database}\" \n",
    "ORDER BY table_name, ordinal_position\n",
    "'''\n",
    "columns_df = pd.read_sql(columns_query, engine)\n",
    "print(columns_df)"
   ]
  },
  {
   "cell_type": "markdown",
   "metadata": {},
   "source": [
    "# Temporary Tables Tasks\n",
    "\n",
    "## Exercise 1\n",
    "\n",
    "```sql\n",
    "\n",
    "```"
   ]
  }
 ],
 "metadata": {
  "language_info": {
   "name": "python"
  }
 },
 "nbformat": 4,
 "nbformat_minor": 2
}
